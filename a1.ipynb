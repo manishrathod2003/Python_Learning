{
 "cells": [
  {
   "cell_type": "code",
   "execution_count": 1,
   "metadata": {},
   "outputs": [
    {
     "name": "stdout",
     "output_type": "stream",
     "text": [
      "1354\n"
     ]
    }
   ],
   "source": [
    "a = int(input(\"Enter a number : \"))\n",
    "b = int(input(\"Enter a number : \"))\n",
    "\n",
    "c = a+b\n",
    "print(c)"
   ]
  },
  {
   "cell_type": "code",
   "execution_count": 2,
   "metadata": {},
   "outputs": [
    {
     "name": "stdout",
     "output_type": "stream",
     "text": [
      "63\n"
     ]
    }
   ],
   "source": [
    "a = int(input(\"Enter a number : \"))\n",
    "b = int(input(\"Enter a number : \"))\n",
    "\n",
    "rem = a%b\n",
    "print(rem)"
   ]
  },
  {
   "cell_type": "code",
   "execution_count": 3,
   "metadata": {},
   "outputs": [
    {
     "name": "stdout",
     "output_type": "stream",
     "text": [
      "87\n"
     ]
    },
    {
     "data": {
      "text/plain": [
       "str"
      ]
     },
     "execution_count": 3,
     "metadata": {},
     "output_type": "execute_result"
    }
   ],
   "source": [
    "a = input(\"enter a number : \")\n",
    "print(a)\n",
    "type(a)"
   ]
  },
  {
   "cell_type": "code",
   "execution_count": 4,
   "metadata": {},
   "outputs": [
    {
     "name": "stdout",
     "output_type": "stream",
     "text": [
      "b is greater than a\n"
     ]
    }
   ],
   "source": [
    "a = 34\n",
    "b = 80\n",
    "\n",
    "if a>b :\n",
    "    print(\"a is greater than b\")\n",
    "else: \n",
    "    print(\"b is greater than a\")"
   ]
  },
  {
   "cell_type": "code",
   "execution_count": 5,
   "metadata": {},
   "outputs": [
    {
     "name": "stdout",
     "output_type": "stream",
     "text": [
      "a is greater than b :  False\n"
     ]
    }
   ],
   "source": [
    "a = int(input(\"Enter a number 1 : \"))\n",
    "b = int(input(\"Enter a number 2 : \"))\n",
    "\n",
    "print(\"a is greater than b : \", a>b)"
   ]
  },
  {
   "cell_type": "code",
   "execution_count": 6,
   "metadata": {},
   "outputs": [
    {
     "name": "stdout",
     "output_type": "stream",
     "text": [
      "777.5\n"
     ]
    }
   ],
   "source": [
    "a = int(input(\"Enter a number 1 : \"))\n",
    "b = int(input(\"Enter a number 2 : \"))\n",
    "\n",
    "avg = (a+b)/2\n",
    "\n",
    "print(avg)"
   ]
  },
  {
   "cell_type": "code",
   "execution_count": 2,
   "metadata": {},
   "outputs": [
    {
     "name": "stdout",
     "output_type": "stream",
     "text": [
      "25\n",
      "25\n"
     ]
    }
   ],
   "source": [
    "a = int(input(\"Enter a number : \"))\n",
    "sqrt1 = a*a\n",
    "sqrt2 = a**2\n",
    "print(sqrt1)\n",
    "print(sqrt2)"
   ]
  },
  {
   "cell_type": "code",
   "execution_count": null,
   "metadata": {},
   "outputs": [
    {
     "name": "stdout",
     "output_type": "stream",
     "text": [
      "Manish\n",
      "Maniushd\n"
     ]
    }
   ],
   "source": [
    "name = \"Manish\"\n",
    "print(name)             #String are Immutable\n",
    "name = \"Maniushd\"\n",
    "print(name)"
   ]
  },
  {
   "cell_type": "code",
   "execution_count": 9,
   "metadata": {},
   "outputs": [
    {
     "name": "stdout",
     "output_type": "stream",
     "text": [
      "Nxhisu. ninx . xnsian\n",
      "Kdscsh \"afewfm smcsk \n"
     ]
    }
   ],
   "source": [
    "a = \"nxhisu. ninx . xnsian\"\n",
    "b = \"Kdscsh \\\"afewfm smcsk \"\n",
    "print(a.capitalize())\n",
    "print(b)"
   ]
  },
  {
   "cell_type": "code",
   "execution_count": 10,
   "metadata": {},
   "outputs": [
    {
     "name": "stdout",
     "output_type": "stream",
     "text": [
      "loWorld\n"
     ]
    }
   ],
   "source": [
    "print(\"Hel\\rloWorld\")\n"
   ]
  },
  {
   "cell_type": "code",
   "execution_count": 11,
   "metadata": {},
   "outputs": [
    {
     "name": "stdout",
     "output_type": "stream",
     "text": [
      "HeloW\u0007orld\u0007\n"
     ]
    }
   ],
   "source": [
    "print(\"Hell\\boW\\aorld\\a\")\n"
   ]
  },
  {
   "cell_type": "code",
   "execution_count": 3,
   "metadata": {},
   "outputs": [
    {
     "name": "stdout",
     "output_type": "stream",
     "text": [
      "Good Afternoon, Manish\n",
      "Good Afternoon, Manish\n"
     ]
    }
   ],
   "source": [
    "a = input(\"Enter string : \")\n",
    "\n",
    "print(\"Good Afternoon,\",a)\n",
    "print(f\"Good Afternoon, {a}\")"
   ]
  },
  {
   "cell_type": "code",
   "execution_count": 13,
   "metadata": {},
   "outputs": [
    {
     "name": "stdout",
     "output_type": "stream",
     "text": [
      "True\n",
      "3\n",
      "scd  sdf\n",
      "scd sdf\n",
      "scd  sdf\n"
     ]
    }
   ],
   "source": [
    "a = \"scd  sdf\"\n",
    "print(a.__contains__(\"  \"))\n",
    "print(a.find(\"  \"))\n",
    "print(a)\n",
    "print(a.replace(\"  \",\" \"))\n",
    "print(a)                       # Strings are Immutable\n",
    "# a[0] = 'h'"
   ]
  },
  {
   "cell_type": "code",
   "execution_count": 6,
   "metadata": {},
   "outputs": [
    {
     "name": "stdout",
     "output_type": "stream",
     "text": [
      "Dear Manish, \n",
      "You are selected! \n",
      "21 Feb 2025 \n",
      "\n"
     ]
    }
   ],
   "source": [
    "letter = '''Dear <|Name|>, \n",
    "You are selected! \n",
    "<|Date|> \n",
    "''' \n",
    "\n",
    "print(letter.replace(\"<|Name|>\",\"Manish\").replace(\"<|Date|>\",\"21 Feb 2025\"))    #chaining "
   ]
  },
  {
   "cell_type": "code",
   "execution_count": 10,
   "metadata": {},
   "outputs": [
    {
     "name": "stdout",
     "output_type": "stream",
     "text": [
      "Dear Harry,\n",
      "\tThis python course is nice.\n",
      "Thanks!\n"
     ]
    }
   ],
   "source": [
    "letter = \"Dear Harry,\\n\\tThis python course is nice.\\nThanks!\" \n",
    "print(letter)"
   ]
  },
  {
   "cell_type": "code",
   "execution_count": 23,
   "metadata": {},
   "outputs": [
    {
     "name": "stdout",
     "output_type": "stream",
     "text": [
      "Aakash\n",
      "Rishabh\n",
      "['Manish', 6, 4.54, 'Rishabh', False]\n",
      "['Manish', 6, 4.54]\n"
     ]
    }
   ],
   "source": [
    "list = [\"Manish\",6,4.54,\"Aakash\",False]\n",
    "print(list[3])\n",
    "\n",
    "list[3] = \"Rishabh\"\n",
    "print(list[3])\n",
    "\n",
    "print(list)\n",
    "\n",
    "print(list[0:3])"
   ]
  },
  {
   "cell_type": "code",
   "execution_count": 24,
   "metadata": {},
   "outputs": [
    {
     "name": "stdout",
     "output_type": "stream",
     "text": [
      "['Manish', 6, 4.54, 'Aakash', False]\n",
      "['Manish', 6, 4.54, 'Aakash', False, 'Aniket']\n"
     ]
    }
   ],
   "source": [
    "list = [\"Manish\",6,4.54,\"Aakash\",False]\n",
    "print(list)\n",
    "\n",
    "list.append(\"Aniket\")\n",
    "print(list)"
   ]
  },
  {
   "cell_type": "code",
   "execution_count": null,
   "metadata": {},
   "outputs": [
    {
     "name": "stdout",
     "output_type": "stream",
     "text": [
      "[445, 546, 658, 3, 456]\n"
     ]
    }
   ],
   "source": [
    "l1 = [445,546,658,3,56,456]\n",
    "\n",
    "# l1.sort()\n",
    "# l1.reverse()\n",
    "\n",
    "#  l1.insert(3,\"Manish\")   #insert \"Manish\" at index 3\n",
    "\n",
    "#l1.pop(3)\n",
    "\n",
    "# l1.remove(56)\n",
    "\n",
    "print(l1)"
   ]
  },
  {
   "cell_type": "code",
   "execution_count": 46,
   "metadata": {},
   "outputs": [
    {
     "name": "stdout",
     "output_type": "stream",
     "text": [
      "2\n",
      "<class 'int'>\n"
     ]
    }
   ],
   "source": [
    "a = (2)\n",
    "print(a)\n",
    "print(type(a))"
   ]
  },
  {
   "cell_type": "code",
   "execution_count": 48,
   "metadata": {},
   "outputs": [
    {
     "name": "stdout",
     "output_type": "stream",
     "text": [
      "(2,)\n",
      "<class 'tuple'>\n"
     ]
    }
   ],
   "source": [
    "b = (2,)\n",
    "print(b)\n",
    "print(type(b))"
   ]
  },
  {
   "cell_type": "code",
   "execution_count": 49,
   "metadata": {},
   "outputs": [
    {
     "name": "stdout",
     "output_type": "stream",
     "text": [
      "()\n",
      "<class 'tuple'>\n"
     ]
    }
   ],
   "source": [
    "c = ()\n",
    "print(c)\n",
    "print(type(c))"
   ]
  },
  {
   "cell_type": "code",
   "execution_count": 52,
   "metadata": {},
   "outputs": [
    {
     "name": "stdout",
     "output_type": "stream",
     "text": [
      "(1, 2, 3, 4, 5, 6, 7)\n",
      "<class 'tuple'>\n"
     ]
    }
   ],
   "source": [
    "d = (1,2,3,4,5,6,7)\n",
    "print(d)\n",
    "print(type(d))"
   ]
  },
  {
   "cell_type": "code",
   "execution_count": 53,
   "metadata": {},
   "outputs": [
    {
     "name": "stdout",
     "output_type": "stream",
     "text": [
      "(1, 2, 3, 4, 5, 6, 7, False, 8943.354425, 'Sorry')\n",
      "<class 'tuple'>\n"
     ]
    }
   ],
   "source": [
    "e = (1,2,3,4,5,6,7,False,8943.354425, \"Sorry\")\n",
    "print(e)\n",
    "print(type(e))"
   ]
  },
  {
   "cell_type": "code",
   "execution_count": 56,
   "metadata": {},
   "outputs": [
    {
     "name": "stdout",
     "output_type": "stream",
     "text": [
      "(1, 2, 3, 4, 5, 6, 7, False, 8943.354425, 'Sorry')\n",
      "1\n",
      "2\n"
     ]
    }
   ],
   "source": [
    "f = (1,2,3,4,5,6,7,False,8943.354425, \"Sorry\")\n",
    "print(f)\n",
    "print(f.count(3))\n",
    "print(f.index(3))"
   ]
  },
  {
   "cell_type": "code",
   "execution_count": 57,
   "metadata": {},
   "outputs": [
    {
     "name": "stdout",
     "output_type": "stream",
     "text": [
      "(1, 2, 3, 4, 5, 6, 7, False, 8943.354425, 'Sorry', 1, 2, 3, 4, 5, 6, 7, False, 8943.354425, 'Sorry')\n"
     ]
    }
   ],
   "source": [
    "concat = e+f\n",
    "print(concat)"
   ]
  },
  {
   "cell_type": "code",
   "execution_count": 63,
   "metadata": {},
   "outputs": [
    {
     "name": "stdout",
     "output_type": "stream",
     "text": [
      "(1, 2, 3, 4, 5, 6, 7, 1, 2, 3, 4, 5, 6, 7, 1, 2, 3, 4, 5, 6, 7)\n",
      "True\n",
      "7\n",
      "1\n",
      "7\n",
      "(4, 5)\n"
     ]
    }
   ],
   "source": [
    "repeated = d*3\n",
    "print(repeated)\n",
    "print(1 in d)\n",
    "print(len(d))\n",
    "print(min(d))\n",
    "print(max(d))\n",
    "print(d[3:5])\n"
   ]
  },
  {
   "cell_type": "code",
   "execution_count": 64,
   "metadata": {},
   "outputs": [
    {
     "name": "stdout",
     "output_type": "stream",
     "text": [
      "1 2 3\n"
     ]
    }
   ],
   "source": [
    "g = (1,2,3)\n",
    "a,b,c = g\n",
    "print(a,b,c)"
   ]
  },
  {
   "cell_type": "code",
   "execution_count": 68,
   "metadata": {},
   "outputs": [
    {
     "name": "stdout",
     "output_type": "stream",
     "text": [
      "['Banana', 'Apple', 'Grapes', 'Watermelon', 'Papaya', 'Strawberry', 'Kiwi']\n"
     ]
    }
   ],
   "source": [
    "fruits = []\n",
    "\n",
    "f1 = input(\"Enter Fruit Name : \")\n",
    "fruits.append(f1)\n",
    "\n",
    "f2 = input(\"Enter Fruit Name : \")\n",
    "fruits.append(f2)\n",
    "\n",
    "f3 = input(\"Enter Fruit Name : \")\n",
    "fruits.append(f3)\n",
    "\n",
    "f4 = input(\"Enter Fruit Name : \")\n",
    "fruits.append(f4)\n",
    "\n",
    "f5 = input(\"Enter Fruit Name : \")\n",
    "fruits.append(f5)\n",
    "\n",
    "f6 = input(\"Enter Fruit Name : \")\n",
    "fruits.append(f6)\n",
    "\n",
    "f7 = input(\"Enter Fruit Name : \")\n",
    "fruits.append(f7)\n",
    "\n",
    "print(fruits)"
   ]
  },
  {
   "cell_type": "code",
   "execution_count": null,
   "metadata": {},
   "outputs": [
    {
     "name": "stdout",
     "output_type": "stream",
     "text": [
      "['0', '78', '8', '80', '89', '9', '9']\n"
     ]
    }
   ],
   "source": [
    "marks = []\n",
    "\n",
    "f1 = input(\"Enter Marks here : \")\n",
    "marks.append(f1)\n",
    "\n",
    "f2 = input(\"Enter Marks here : \")\n",
    "marks.append(f2)\n",
    "\n",
    "f3 = input(\"Enter Marks here : \")\n",
    "marks.append(f3)\n",
    "\n",
    "f4 = input(\"Enter Marks here : \")\n",
    "marks.append(f4)\n",
    "\n",
    "f5 = input(\"Enter Marks here : \")\n",
    "marks.append(f5)\n",
    "\n",
    "f6 = input(\"Enter Marks here : \")\n",
    "marks.append(f6)\n",
    "\n",
    "f7 = input(\"Enter Marks here : \")\n",
    "marks.append(f7)\n",
    "\n",
    "marks.sort()\n",
    "\n",
    "print(marks)"
   ]
  },
  {
   "cell_type": "code",
   "execution_count": 71,
   "metadata": {},
   "outputs": [
    {
     "name": "stdout",
     "output_type": "stream",
     "text": [
      "[73, 78, 84, 89, 90, 90, 92]\n"
     ]
    }
   ],
   "source": [
    "marks = []\n",
    "\n",
    "f1 = int(input(\"Enter Marks here : \"))\n",
    "marks.append(f1)\n",
    "\n",
    "f2 = int(input(\"Enter Marks here : \"))\n",
    "marks.append(f2)\n",
    "\n",
    "f3 = int(input(\"Enter Marks here : \"))\n",
    "marks.append(f3)\n",
    "\n",
    "f4 = int(input(\"Enter Marks here : \"))\n",
    "marks.append(f4)\n",
    "\n",
    "f5 = int(input(\"Enter Marks here : \"))\n",
    "marks.append(f5)\n",
    "\n",
    "f6 = int(input(\"Enter Marks here : \"))\n",
    "marks.append(f6)\n",
    "\n",
    "f7 = int(input(\"Enter Marks here : \"))\n",
    "marks.append(f7)\n",
    "\n",
    "marks.sort()\n",
    "\n",
    "print(marks)"
   ]
  },
  {
   "cell_type": "code",
   "execution_count": null,
   "metadata": {},
   "outputs": [],
   "source": [
    "h = (45,458,\"hashidh\")\n",
    "\n",
    "# h[1] = 678                  Tuple is Immutable   "
   ]
  },
  {
   "cell_type": "code",
   "execution_count": 73,
   "metadata": {},
   "outputs": [
    {
     "name": "stdout",
     "output_type": "stream",
     "text": [
      "224\n"
     ]
    }
   ],
   "source": [
    "i = [23,45,67,89]\n",
    "\n",
    "print(sum(i))"
   ]
  },
  {
   "cell_type": "code",
   "execution_count": 74,
   "metadata": {},
   "outputs": [
    {
     "name": "stdout",
     "output_type": "stream",
     "text": [
      "5\n"
     ]
    }
   ],
   "source": [
    "j = (2,0,4,0,6,7,9,0,4,0,1,0)\n",
    "\n",
    "print(j.count(0))"
   ]
  }
 ],
 "metadata": {
  "kernelspec": {
   "display_name": "Python 3",
   "language": "python",
   "name": "python3"
  },
  "language_info": {
   "codemirror_mode": {
    "name": "ipython",
    "version": 3
   },
   "file_extension": ".py",
   "mimetype": "text/x-python",
   "name": "python",
   "nbconvert_exporter": "python",
   "pygments_lexer": "ipython3",
   "version": "3.11.4"
  }
 },
 "nbformat": 4,
 "nbformat_minor": 2
}
